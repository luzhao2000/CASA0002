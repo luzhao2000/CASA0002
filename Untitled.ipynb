{
 "cells": [
  {
   "cell_type": "code",
   "execution_count": 1,
   "id": "cba86a68",
   "metadata": {},
   "outputs": [],
   "source": [
    "import pandas as pd\n",
    "import numpy as np\n",
    "import geopandas as gpd\n",
    "import networkx as nx\n",
    "import matplotlib.pyplot as plt\n",
    "from matplotlib.pyplot import cm\n",
    "import json\n",
    "import re\n",
    "from shapely.geometry import Point, LineString #this library is for manipulating geometric objects, and it is what geopandas uses to store geometries\n",
    "from scipy.spatial import distance"
   ]
  },
  {
   "cell_type": "code",
   "execution_count": 2,
   "id": "0ccf5890",
   "metadata": {},
   "outputs": [],
   "source": [
    "london_OD_AMpeak = pd.read_csv('london_flows_OD.csv')#tube network in London and relevant useful information\n",
    "london_OD_AMpeak.head() #flows: group by origin and destination station and sum the flows\n",
    "#read in London underground data using geopandas\n",
    "stations = gpd.read_file('tfl_stations.json')\n",
    "lines = gpd.read_file('tfl_lines.json')\n",
    "#project underground data to British National Grid\n",
    "stations = stations.to_crs(epsg = 27700)\n",
    "lines = lines.to_crs(epsg = 27700)"
   ]
  },
  {
   "cell_type": "code",
   "execution_count": null,
   "id": "6e8c170d",
   "metadata": {},
   "outputs": [],
   "source": [
    "london_OD_AMpeak.head() "
   ]
  },
  {
   "cell_type": "code",
   "execution_count": null,
   "id": "b277d850",
   "metadata": {},
   "outputs": [],
   "source": [
    "#get position of stations as mean of x, y of stations\n",
    "#create empty dict to store list of coordinates\n",
    "pos = {}\n",
    "#iterate through the stations\n",
    "for i, station in stations.iterrows():\n",
    "    xy = station.geometry.coords[0]    \n",
    "    #if station already in dict add coordinate to coordinate list\n",
    "    if station['name'] in pos.keys():\n",
    "        pos[station['name']].extend([xy])\n",
    "    #if station is not in the dict add station to dict and set first coordinate in list\n",
    "    else:\n",
    "        pos[station['name']] = [xy]\n",
    "#iterate through our dict and replace coordinate list with mean value\n",
    "for k, v in pos.items():\n",
    "    #we set axis to 0 to make sure to take mean of x and y coordinates\n",
    "    pos[k] = np.mean(v, axis=0)\n",
    "#set new geometry\n",
    "stations['geometry'] = stations['name'].apply(lambda x: Point(pos[x]))\n",
    "#check plot to make sure there are no errors\n",
    "# stations.plot(markersize=2)"
   ]
  },
  {
   "cell_type": "code",
   "execution_count": null,
   "id": "f5610a4a",
   "metadata": {},
   "outputs": [],
   "source": [
    "#get all line types as a list and subset geoms by lines\n",
    "line_names  = lines.lines.apply(lambda x: [x['name'] for x in json.loads(x)] )\n",
    "line_names = list(set([item for sublist in line_names for item in sublist]))\n",
    "line_names\n",
    "# check the data for each line\n",
    "for line in line_names:\n",
    "    #I'm removing thameslink 6tph line because there are not corresponding stations in station file\n",
    "    if line == 'Thameslink 6tph line':\n",
    "        continue\n",
    "#     fig, ax = plt.subplots(figsize = (7,7))\n",
    "#     fig.suptitle(f'line: {line}')\n",
    "#     ax.set_aspect(\"equal\")\n",
    "#     ax.axis('off')\n",
    "#     ax.margins(0.1)\n",
    "    temp_lines = lines[lines.lines.str.contains(line)]\n",
    "#     base = temp_lines.plot(ax=ax)\n",
    "    temp_stations = stations[stations.lines.str.contains(line)]\n",
    "#     temp_stations.plot(ax=base, markersize=20)\n",
    "#     plt.show()\n",
    "#merge East London line and London Overground since they are one line\n",
    "lines.lines = lines.lines.str.replace('East London', 'London Overground')\n",
    "stations.lines = stations.lines.str.replace('East London', 'London Overground')\n",
    "#exclude the lines that we are not going to use\n",
    "excluded_lines = ['Thameslink 6tph line', 'East London', 'Crossrail 2', 'Emirates Air Line', 'Crossrail', 'Tramlink']\n"
   ]
  },
  {
   "cell_type": "code",
   "execution_count": null,
   "id": "d2effeb7",
   "metadata": {},
   "outputs": [],
   "source": [
    "london_OD_AMpeak"
   ]
  },
  {
   "cell_type": "code",
   "execution_count": 3,
   "id": "257bf66a",
   "metadata": {},
   "outputs": [
    {
     "data": {
      "text/plain": [
       "[('Abbey Road', 'Bank and Monument', {'flows': 0, 'population': 29494}),\n",
       " ('Abbey Road', 'Beckton', {'flows': 0, 'population': 1179}),\n",
       " ('Abbey Road', 'Blackwall', {'flows': 0, 'population': 952})]"
      ]
     },
     "execution_count": 3,
     "metadata": {},
     "output_type": "execute_result"
    }
   ],
   "source": [
    "G = nx.from_pandas_edgelist(london_OD_AMpeak, source = 'station_origin', target = 'station_destination', edge_attr = ['flows','population'])\n",
    "list(G.edges(data = True))[0:3]"
   ]
  },
  {
   "cell_type": "code",
   "execution_count": null,
   "id": "911bc196",
   "metadata": {
    "scrolled": true
   },
   "outputs": [],
   "source": [
    "help(nx.from_pandas_edgelist)"
   ]
  },
  {
   "cell_type": "code",
   "execution_count": 12,
   "id": "fb114c83",
   "metadata": {},
   "outputs": [],
   "source": [
    "import networkx as nx\n",
    "import pandas as pd\n",
    "data = {'source':[\"A\", \"A\", \"B\", \"B\", \"C\"],\n",
    "        'destination':[\"B\", \"C\", \"A\", \"D\", \"D\"],\n",
    "        'weight':[0.5, 0.2, 1.1, 0.1, 0.1]}\n",
    "df = pd.DataFrame(data)\n",
    "g = nx.DiGraph()\n",
    "# weighted_edges = list(zip(*[df[col] for col in df]))\n",
    "# g.add_weighted_edges_from(weighted_edges)\n",
    "g = nx.from_pandas_edgelist(df, source='source', target='destination',\n",
    "                            edge_attr='weight')\n"
   ]
  },
  {
   "cell_type": "code",
   "execution_count": 13,
   "id": "6c103e27",
   "metadata": {},
   "outputs": [
    {
     "data": {
      "text/html": [
       "<div>\n",
       "<style scoped>\n",
       "    .dataframe tbody tr th:only-of-type {\n",
       "        vertical-align: middle;\n",
       "    }\n",
       "\n",
       "    .dataframe tbody tr th {\n",
       "        vertical-align: top;\n",
       "    }\n",
       "\n",
       "    .dataframe thead th {\n",
       "        text-align: right;\n",
       "    }\n",
       "</style>\n",
       "<table border=\"1\" class=\"dataframe\">\n",
       "  <thead>\n",
       "    <tr style=\"text-align: right;\">\n",
       "      <th></th>\n",
       "      <th>source</th>\n",
       "      <th>destination</th>\n",
       "      <th>weight</th>\n",
       "    </tr>\n",
       "  </thead>\n",
       "  <tbody>\n",
       "    <tr>\n",
       "      <th>0</th>\n",
       "      <td>A</td>\n",
       "      <td>B</td>\n",
       "      <td>0.5</td>\n",
       "    </tr>\n",
       "    <tr>\n",
       "      <th>1</th>\n",
       "      <td>A</td>\n",
       "      <td>C</td>\n",
       "      <td>0.2</td>\n",
       "    </tr>\n",
       "    <tr>\n",
       "      <th>2</th>\n",
       "      <td>B</td>\n",
       "      <td>A</td>\n",
       "      <td>1.1</td>\n",
       "    </tr>\n",
       "  </tbody>\n",
       "</table>\n",
       "</div>"
      ],
      "text/plain": [
       "  source destination  weight\n",
       "0      A           B     0.5\n",
       "1      A           C     0.2\n",
       "2      B           A     1.1"
      ]
     },
     "execution_count": 13,
     "metadata": {},
     "output_type": "execute_result"
    }
   ],
   "source": [
    "df.iloc[0:3,:]"
   ]
  },
  {
   "cell_type": "code",
   "execution_count": 14,
   "id": "9bc521ed",
   "metadata": {},
   "outputs": [
    {
     "data": {
      "text/plain": [
       "[('A', 'B', {'weight': 1.1}),\n",
       " ('A', 'C', {'weight': 0.2}),\n",
       " ('B', 'D', {'weight': 0.1})]"
      ]
     },
     "execution_count": 14,
     "metadata": {},
     "output_type": "execute_result"
    }
   ],
   "source": [
    "list(g.edges(data = True))[0:3]"
   ]
  }
 ],
 "metadata": {
  "kernelspec": {
   "display_name": "urbsim",
   "language": "python",
   "name": "urbsim"
  },
  "language_info": {
   "codemirror_mode": {
    "name": "ipython",
    "version": 3
   },
   "file_extension": ".py",
   "mimetype": "text/x-python",
   "name": "python",
   "nbconvert_exporter": "python",
   "pygments_lexer": "ipython3",
   "version": "3.9.13"
  }
 },
 "nbformat": 4,
 "nbformat_minor": 5
}

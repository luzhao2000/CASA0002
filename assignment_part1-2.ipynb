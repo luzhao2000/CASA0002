{
 "cells": [
  {
   "cell_type": "markdown",
   "id": "2444c7b3",
   "metadata": {},
   "source": [
    "## Part I.2\n"
   ]
  },
  {
   "cell_type": "markdown",
   "id": "10b6bbb4",
   "metadata": {},
   "source": [
    "### 1.1 Import packages"
   ]
  },
  {
   "cell_type": "code",
   "execution_count": 1,
   "id": "13ce2341",
   "metadata": {},
   "outputs": [],
   "source": [
    "import pandas as pd\n",
    "import numpy as np\n",
    "import geopandas as gpd\n",
    "import networkx as nx\n",
    "import matplotlib.pyplot as plt\n",
    "from matplotlib.pyplot import cm\n",
    "import json\n",
    "import re\n",
    "from shapely.geometry import Point, LineString #this library is for manipulating geometric objects, and it is what geopandas uses to store geometries\n",
    "from scipy.spatial import distance"
   ]
  },
  {
   "cell_type": "markdown",
   "id": "e59c1f99",
   "metadata": {},
   "source": [
    "### 1.2 Import data"
   ]
  },
  {
   "cell_type": "code",
   "execution_count": 30,
   "id": "95cdd1d0",
   "metadata": {},
   "outputs": [],
   "source": [
    "G = nx.read_graphml(\"Assignment_part1_G.graphml\")\n",
    "degree_top10 = pd.read_csv('degree_top10.csv')\n",
    "T_betweenness_top10 = pd.read_csv('T_betweenness_top10.csv')\n",
    "T_closeness_top10 = pd.read_csv('T_closeness_top10.csv')\n",
    "G1=G.copy() #graph for task 1\n",
    "G2=G.copy() #graph for task 2\n"
   ]
  },
  {
   "cell_type": "markdown",
   "id": "5463c506",
   "metadata": {},
   "source": [
    "### 2.1 Task 1\t(Non-sequential removal)"
   ]
  },
  {
   "cell_type": "code",
   "execution_count": 31,
   "id": "53e5efee",
   "metadata": {},
   "outputs": [
    {
     "data": {
      "text/plain": [
       "['Stratford',\n",
       " 'Bank and Monument',\n",
       " \"King's Cross St. Pancras\",\n",
       " 'Baker Street',\n",
       " 'Waterloo',\n",
       " \"Earl's Court\",\n",
       " 'Green Park',\n",
       " 'Canning Town',\n",
       " 'Liverpool Street',\n",
       " 'Oxford Circus',\n",
       " 'West Ham']"
      ]
     },
     "execution_count": 31,
     "metadata": {},
     "output_type": "execute_result"
    }
   ],
   "source": [
    "degree_top10_list = degree_top10.iloc[:,0].tolist()\n",
    "degree_top10_list"
   ]
  },
  {
   "cell_type": "code",
   "execution_count": 32,
   "id": "66692e42",
   "metadata": {},
   "outputs": [
    {
     "name": "stdout",
     "output_type": "stream",
     "text": [
      "True\n"
     ]
    },
    {
     "data": {
      "text/plain": [
       "[10]"
      ]
     },
     "execution_count": 32,
     "metadata": {},
     "output_type": "execute_result"
    }
   ],
   "source": [
    "G1.remove_nodes_from(degree_top10_list[0])\n",
    "print(nx.is_connected(G1))\n",
    "nx.number_connected_components(G1)\n",
    "# To comput the size ( number of node) of each component\n",
    "Subg = [G1.subgraph(c).copy() for c in nx.connected_components(G1)]\n",
    "[len(subgraph.nodes) for subgraph in Subg]"
   ]
  },
  {
   "cell_type": "code",
   "execution_count": 7,
   "id": "e7e867ce",
   "metadata": {},
   "outputs": [
    {
     "ename": "SyntaxError",
     "evalue": "invalid syntax (17874321.py, line 7)",
     "output_type": "error",
     "traceback": [
      "\u001b[1;36m  File \u001b[1;32m\"C:\\Users\\zhaol\\AppData\\Local\\Temp\\ipykernel_17248\\17874321.py\"\u001b[1;36m, line \u001b[1;32m7\u001b[0m\n\u001b[1;33m    Subg = [G1.subgraph(c).copy() for c in nx.connected_components(G1)][len(subgraph.nodes) for subgraph in Subg\u001b[0m\n\u001b[1;37m                                                                                            ^\u001b[0m\n\u001b[1;31mSyntaxError\u001b[0m\u001b[1;31m:\u001b[0m invalid syntax\n"
     ]
    }
   ],
   "source": [
    "# remove the station node one-by-one, and calculate diameter and \n",
    "#size of the largest component\n",
    "# Degree centrality top 10 nodes\n",
    "# for i in range(len(degree_top10)):\n",
    "    G1.remove_nodes_from(degree_top10.iloc[])\n",
    "    # To comput the size ( number of node) of each component after each removal\n",
    "    Subg = [G1.subgraph(c).copy() for c in nx.connected_components(G1)]\n",
    "    [len(subgraph.nodes) for subgraph in Subg    \n",
    "#     # Get the list of components:\n",
    "#     components = nx.connected_components(G1)\n",
    "#     # Use the max() command to find the largest one:\n",
    "#     largest_component = max(components, key=len)\n",
    "#     # Create a \"subgraph\" of the largest component\n",
    "#     Largest_subgraph = G1.subgraph(largest_component)\n",
    "#     #compute the diameter of this new graph \n",
    "#     diameter = nx.diameter(Largest_subgraph)\n",
    "#     diameter"
   ]
  },
  {
   "cell_type": "markdown",
   "id": "733a84d1",
   "metadata": {},
   "source": [
    "### 2.2 Task 2\t(Sequential removal)"
   ]
  },
  {
   "cell_type": "code",
   "execution_count": null,
   "id": "abd78a88",
   "metadata": {},
   "outputs": [],
   "source": []
  }
 ],
 "metadata": {
  "kernelspec": {
   "display_name": "Python 3 (ipykernel)",
   "language": "python",
   "name": "python3"
  },
  "language_info": {
   "codemirror_mode": {
    "name": "ipython",
    "version": 3
   },
   "file_extension": ".py",
   "mimetype": "text/x-python",
   "name": "python",
   "nbconvert_exporter": "python",
   "pygments_lexer": "ipython3",
   "version": "3.9.13"
  }
 },
 "nbformat": 4,
 "nbformat_minor": 5
}
